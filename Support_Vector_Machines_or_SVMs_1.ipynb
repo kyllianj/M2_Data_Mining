{
 "cells": [
  {
   "cell_type": "markdown",
   "metadata": {
    "id": "CW4SWI6YaA3q"
   },
   "source": [
    "# TD on Support Vector Machines or SVMs (1/?)\n",
    "\n",
    "### Usage of this notebook\n",
    "- __run a cell__ with **_ctrl-enter_** or **_shift-enter_**\n",
    "- __use the command palette__ with **_ctrl-shift-P_** to find more complex commands\n",
    "\n",
    "Use it referably with __Edge__ or __Chrome__\n",
    "\n"
   ]
  },
  {
   "cell_type": "code",
   "execution_count": 2,
   "metadata": {
    "id": "nteEjjzPNuM8"
   },
   "outputs": [],
   "source": [
    "#Some typical scientific & data manipulation packages\n",
    "import numpy as np\n",
    "import pandas as pd\n",
    "\n",
    "#Keras, deep learning library, used here only to load the MNIST dataset\n",
    "from keras.datasets import mnist\n",
    "\n",
    "#Imports from sklearn package: data generation, svm module & metrics\n",
    "from sklearn import svm\n",
    "from sklearn.datasets import make_blobs\n",
    "from sklearn.model_selection import train_test_split, GridSearchCV\n",
    "from sklearn.metrics import confusion_matrix, roc_auc_score, accuracy_score, mean_squared_error\n",
    "\n",
    "\n",
    "#Visualization packages\n",
    "import seaborn as sns\n",
    "import matplotlib.pyplot as plt\n",
    "from matplotlib import cm"
   ]
  },
  {
   "cell_type": "markdown",
   "metadata": {
    "id": "Cw4NdH5cNVIT"
   },
   "source": [
    "# **Exercise 1. Implement your own simple linear SVM classifier**\n",
    "\n",
    "#### Let's write a simplified code for SVMs on a random dataset\n",
    "- 1.1. Generate random dataset & visualize it (done)\n",
    "- 1.2. Write a generic code for SVM training (fit) \n",
    "- 1.3. Play around with dataset & algorithm parameters. Visualize optimum boundary.\n",
    "- 1.4. Let's try the multiclass classification [optional]\n",
    "\n",
    "\n",
    "### 1.1 Initialization"
   ]
  },
  {
   "cell_type": "code",
   "execution_count": 3,
   "metadata": {
    "colab": {
     "base_uri": "https://localhost:8080/",
     "height": 282
    },
    "id": "t2yCkkmb_S3h",
    "outputId": "ff8cfcfd-6344-4d1f-f469-32af7e94684d"
   },
   "outputs": [
    {
     "data": {
      "text/plain": [
       "<matplotlib.collections.PathCollection at 0x7ff819a4c390>"
      ]
     },
     "execution_count": 3,
     "metadata": {},
     "output_type": "execute_result"
    },
    {
     "data": {
      "image/png": "[encoded data removed]",
      "text/plain": [
       "<Figure size 432x288 with 1 Axes>"
      ]
     },
     "metadata": {
      "needs_background": "light"
     },
     "output_type": "display_data"
    }
   ],
   "source": [
    "#Generate random dataset \n",
    "X, Y = make_blobs(n_samples=1000, centers=2, random_state=1, cluster_std=1)\n",
    "\n",
    "#Visualize the dataset\n",
    "plt.scatter(X[:,0], X[:,1], c=Y)"
   ]
  },
  {
   "cell_type": "code",
   "execution_count": 4,
   "metadata": {
    "id": "nuX-uuSLAua2"
   },
   "outputs": [],
   "source": [
    "#n_samples = nombre de points qu'on a généré dans X notre échantillon de base "
   ]
  },
  {
   "cell_type": "markdown",
   "metadata": {
    "id": "qqulvDKAkMXj"
   },
   "source": [
    "### 1.2 Simple linear Support Vector Machine code"
   ]
  },
  {
   "cell_type": "code",
   "execution_count": 5,
   "metadata": {
    "colab": {
     "base_uri": "https://localhost:8080/"
    },
    "id": "WJduRrdLCReI",
    "outputId": "bffe0a8a-6aa8-4968-9336-0a3b4d82021f"
   },
   "outputs": [
    {
     "name": "stdout",
     "output_type": "stream",
     "text": [
      "[-0.18395027 -0.30394873] 0.9830000000000008\n"
     ]
    }
   ],
   "source": [
    "class SVM:\n",
    "\n",
    "  #Initialization of algorithm parameters\n",
    "  def __init__(self, learning_rate=0.001, lambda_param=0.01, n_iters=1000):\n",
    "    self.lr = learning_rate\n",
    "    self.lambda_param = lambda_param\n",
    "    self.n_iters = n_iters\n",
    "    self.w = None\n",
    "    self.b = None\n",
    "\n",
    "  def fit(self, X, Y):\n",
    "    n_samples, n_features = X.shape #Samples => lines, features => columns of X\n",
    "\n",
    "    #Change class label from 0 to -1 => (6 different ways: https://datagy.io/python-replace-item-in-list/)\n",
    "    Y = np.where(Y==0,-1,1)\n",
    "\n",
    "    #Initialize weights and bias to zero for start, remember that w is a vector so you must use np.zeros(dim), b is a scalar\n",
    "    self.w = np.zeros(n_features)\n",
    "    self.b = 0\n",
    "\n",
    "    #Iterate over the predefined amount of iterations on __init__ of your class\n",
    "    for iter in range(self.n_iters):\n",
    "\n",
    "      #For each point Xi in your dataset\n",
    "      for idx, Xi in enumerate(X):\n",
    "\n",
    "        #Test your condition: is Yi(Xi.W - b) >= 1?\n",
    "        condition = Y[idx]* (np.dot(Xi,self.w)-self.b) >=1\n",
    "\n",
    "        #If the condition is satisfied, points are correctly classified and then update the weights accordingly\n",
    "        if condition:\n",
    "          self.w -= self.lr * (self.lambda_param * self.w)\n",
    "        else:\n",
    "          self.w -= self.lr*(self.lambda_param * self.w - np.dot(Xi,Y[idx]))\n",
    "          # Update the bias\n",
    "          self.b -= self.lr * Y[idx]\n",
    "\n",
    "  def predict(self, X):\n",
    "    #Equation => y = wX - b\n",
    "    y_pred = np.dot(X,self.w)-self.b\n",
    "    #Return the sign of this approximation\n",
    "    return np.sign(y_pred)\n",
    "\n",
    "\n",
    "clf = SVM()\n",
    "clf.fit(X,Y)\n",
    "print(clf.w, clf.b)\n",
    "#Predictions = clf.predict(my_point) #You can take random points and make a prediction"
   ]
  },
  {
   "cell_type": "markdown",
   "metadata": {
    "id": "bJR2vTCwxVb3"
   },
   "source": [
    "### 1.3 Play with :\n",
    "- the input dataset \n",
    "  - nb of samples\n",
    "  - cluster std\n",
    "  - random state\n",
    "- the SVM algorithm hyperparameters\n",
    "  - learning rate\n",
    "  - lambda\n",
    "  - nb iterations\n",
    "  & launch the visualization code below to view the results."
   ]
  },
  {
   "cell_type": "code",
   "execution_count": 6,
   "metadata": {
    "colab": {
     "base_uri": "https://localhost:8080/",
     "height": 265
    },
    "id": "0nPsfypKlSUX",
    "outputId": "12717bf9-a430-4769-fcc9-fd9ae84032e2"
   },
   "outputs": [
    {
     "data": {
      "image/png": "[encoded data removed]",
      "text/plain": [
       "<Figure size 432x288 with 1 Axes>"
      ]
     },
     "metadata": {
      "needs_background": "light"
     },
     "output_type": "display_data"
    }
   ],
   "source": [
    "def visualize_svm():\n",
    "  def get_hyperplane_value(x, w, b, offset):\n",
    "      return (-w[0] * x + b + offset) / w[1]\n",
    "\n",
    "  fig = plt.figure()\n",
    "  ax = fig.add_subplot(1, 1, 1)\n",
    "  plt.scatter(X[:,0], X[:,1], c=Y, s=50)\n",
    "\n",
    "  x0_1 = np.amin(X[:,0])\n",
    "  x0_2 = np.amax(X[:,0])\n",
    "\n",
    "  x1_1 = get_hyperplane_value(x0_1, clf.w, clf.b, 0)\n",
    "  x1_2 = get_hyperplane_value(x0_2, clf.w, clf.b, 0)\n",
    "\n",
    "  x1_1_m = get_hyperplane_value(x0_1, clf.w, clf.b, -1)\n",
    "  x1_2_m = get_hyperplane_value(x0_2, clf.w, clf.b, -1)\n",
    "\n",
    "  x1_1_p = get_hyperplane_value(x0_1, clf.w, clf.b, 1)\n",
    "  x1_2_p = get_hyperplane_value(x0_2, clf.w, clf.b, 1)\n",
    "\n",
    "  ax.plot([x0_1, x0_2], [x1_1, x1_2], \"k\")\n",
    "  ax.plot([x0_1, x0_2], [x1_1_m, x1_2_m], \"b--\")\n",
    "  ax.plot([x0_1, x0_2], [x1_1_p, x1_2_p], \"y--\")\n",
    "\n",
    "  x1_min = np.amin(X[:,1])\n",
    "  x1_max = np.amax(X[:,1])\n",
    "  ax.set_ylim([x1_min - 3, x1_max + 3])\n",
    "\n",
    "  plt.show()\n",
    "\n",
    "visualize_svm()"
   ]
  },
  {
   "cell_type": "markdown",
   "metadata": {
    "id": "zTqlVKyCvB0a"
   },
   "source": [
    "### 1.4 Multiclass classifier [OPTIONAL]\n",
    "\n",
    "You can try to implement the one-vs-one or the one-vs-rest method using the SVM class above"
   ]
  },
  {
   "cell_type": "code",
   "execution_count": 7,
   "metadata": {
    "colab": {
     "base_uri": "https://localhost:8080/",
     "height": 548
    },
    "id": "Q3PQZY0-wuLe",
    "outputId": "29a17940-a4e4-4ba3-b70e-1b22f624b793"
   },
   "outputs": [
    {
     "name": "stdout",
     "output_type": "stream",
     "text": [
      "0\n"
     ]
    },
    {
     "data": {
      "image/png": "[encoded data removed]",
      "text/plain": [
       "<Figure size 432x288 with 1 Axes>"
      ]
     },
     "metadata": {
      "needs_background": "light"
     },
     "output_type": "display_data"
    },
    {
     "name": "stdout",
     "output_type": "stream",
     "text": [
      "1\n"
     ]
    },
    {
     "data": {
      "image/png": "[encoded data removed]",
      "text/plain": [
       "<Figure size 432x288 with 1 Axes>"
      ]
     },
     "metadata": {
      "needs_background": "light"
     },
     "output_type": "display_data"
    }
   ],
   "source": [
    "#One versus rest\n",
    "for i in set(Y):\n",
    "  print(i)\n",
    "  #Convert ouput Y\n",
    "  new_Y=np.array([0 if n==i else 1 for n in Y])\n",
    "  #Call SVM instance\n",
    "  clf=SVM()\n",
    "  clf.fit(X,new_Y)\n",
    "  visualize_svm()"
   ]
  },
  {
   "cell_type": "code",
   "execution_count": 8,
   "metadata": {
    "id": "gcOlT_FHGrWk"
   },
   "outputs": [],
   "source": [
    "#locate permet de retourner les index correspondant à une condition spécifique.\n",
    "#index_list_i + index_list_j permet de faire la concaténation de ces deux listes et non l'addition des valeurs de la liste."
   ]
  },
  {
   "cell_type": "code",
   "execution_count": 9,
   "metadata": {
    "colab": {
     "base_uri": "https://localhost:8080/",
     "height": 282
    },
    "id": "7Yjauc3iGHCN",
    "outputId": "1dbf0930-68fa-4227-8dcb-fce8af3e2bb6"
   },
   "outputs": [
    {
     "name": "stdout",
     "output_type": "stream",
     "text": [
      "0 1\n"
     ]
    },
    {
     "data": {
      "image/png": "[encoded data removed]",
      "text/plain": [
       "<Figure size 432x288 with 1 Axes>"
      ]
     },
     "metadata": {
      "needs_background": "light"
     },
     "output_type": "display_data"
    }
   ],
   "source": [
    "#One versus one\n",
    "\n",
    "from more_itertools import locate\n",
    "\n",
    "\n",
    "for i in set(Y):\n",
    "  for j in set(Y):\n",
    "    if j>i:\n",
    "      print(i,j)\n",
    "      #Filter dataset\n",
    "      index_list_i=list(locate(Y,lambda x: x==i))\n",
    "      index_list_j=list(locate(Y,lambda x: x==j))\n",
    "      new_X=np.array([X[n] for n in index_list_i+index_list_j])\n",
    "      new_Y=np.array([Y[n] for n in index_list_i+index_list_j])\n",
    "      for x,v in enumerate(new_Y):\n",
    "        if v == i:\n",
    "          new_Y[x]= 0 \n",
    "        elif v == j:\n",
    "          new_Y[x]= 1\n",
    "        #Call SVM instance\n",
    "      clf=SVM()\n",
    "      clf.fit(new_X,new_Y)\n",
    "      visualize_svm()"
   ]
  },
  {
   "cell_type": "markdown",
   "metadata": {
    "id": "zFVSgQ5jQm-i"
   },
   "source": [
    "# **Exercise 2. Multi-class classification problem - Support Vector Classifier (SVC)**\n",
    "\n",
    "#### Let's test SVMs on images of the MNIST dataset \n",
    "First steps: loading the data set, displaying images & input formatting have been done for you. You will have to focus on:\n",
    "- 2.4. Training your SVM (select best kernel and parameters)\n",
    "- 2.5. Making predictions\n",
    "- 2.6. Measuring its accuracy\n",
    "- 2.7. [Optional] Compare your results with the ones obtained with your handmade neural network (do you remember!?)"
   ]
  },
  {
   "cell_type": "markdown",
   "metadata": {
    "id": "pKJvcu-xV24p"
   },
   "source": [
    "### 2.1. Load the data set (done)"
   ]
  },
  {
   "cell_type": "code",
   "execution_count": 10,
   "metadata": {
    "colab": {
     "base_uri": "https://localhost:8080/"
    },
    "id": "0yikVVzOe-jI",
    "outputId": "8cb02a40-940b-4243-c95a-a2007fb81692"
   },
   "outputs": [
    {
     "name": "stdout",
     "output_type": "stream",
     "text": [
      "(60000, 28, 28)\n",
      "(10000, 28, 28)\n",
      "(60000,)\n",
      "(10000,)\n"
     ]
    }
   ],
   "source": [
    "(X_train, Y_train), (X_test, Y_test) = mnist.load_data()\n",
    "\n",
    "print(X_train.shape)\n",
    "print(X_test.shape)\n",
    "print(Y_train.shape)\n",
    "print(Y_test.shape)"
   ]
  },
  {
   "cell_type": "markdown",
   "metadata": {
    "id": "QAB5AOoVWIdH"
   },
   "source": [
    "### 2.2. Display images (done)"
   ]
  },
  {
   "cell_type": "code",
   "execution_count": 11,
   "metadata": {
    "colab": {
     "base_uri": "https://localhost:8080/",
     "height": 284
    },
    "id": "sYe_OTYsH6MF",
    "outputId": "4f254334-cbea-4df9-cf0f-1b73708abd14"
   },
   "outputs": [
    {
     "data": {
      "image/png": "[encoded data removed]",
      "text/plain": [
       "<Figure size 432x288 with 9 Axes>"
      ]
     },
     "metadata": {},
     "output_type": "display_data"
    }
   ],
   "source": [
    "#2.2.1\n",
    "imagesfig = plt.figure()\n",
    "for i in range(9):\n",
    "  plt.subplot(3,3,i+1)\n",
    "  plt.tight_layout()\n",
    "  plt.imshow(X_train[i], cmap='gray', interpolation='none')\n",
    "  plt.title(\"Digit: {}\".format(Y_train[i]))\n",
    "  plt.xticks([])\n",
    "  plt.yticks([])"
   ]
  },
  {
   "cell_type": "code",
   "execution_count": 12,
   "metadata": {
    "colab": {
     "base_uri": "https://localhost:8080/",
     "height": 317
    },
    "id": "PRKzF13494dI",
    "outputId": "944ff110-50af-4ac8-a9f7-3368830b30c5"
   },
   "outputs": [
    {
     "name": "stdout",
     "output_type": "stream",
     "text": [
      "Input vector: [  0   0   0   0   0   0   0   0  76 252 253 223  37   0  48 174 252 252\n",
      " 242 214 253 199  31   0   0   0   0   0] \n"
     ]
    },
    {
     "data": {
      "image/png": "[encoded data removed]",
      "text/plain": [
       "<Figure size 432x288 with 1 Axes>"
      ]
     },
     "metadata": {
      "needs_background": "light"
     },
     "output_type": "display_data"
    },
    {
     "name": "stdout",
     "output_type": "stream",
     "text": [
      "Label: 0\n"
     ]
    }
   ],
   "source": [
    "#2.2.2 What input vector & labels look like for a given image\n",
    "#Re-run several times to display several images\n",
    "#Choose a train image at random\n",
    "i = np.random.randint(0,X_train.shape[0]-1)\n",
    "print(\"Input vector: {} \".format(X_train[13, 13]))\n",
    "\n",
    "#Display image\n",
    "plt.imshow(1.0-X_train[i,:].reshape(28,28),cmap=\"gray\")\n",
    "plt.show()\n",
    "\n",
    "#Display label\n",
    "print(\"Label: {}\".format(Y_train[i]))"
   ]
  },
  {
   "cell_type": "markdown",
   "metadata": {
    "id": "jcq06pdBikPf"
   },
   "source": [
    "### 2.3. Input data reshaping (done)\n",
    "\n",
    "Reshape MNIST inputs to vector of length 784 (28*28) and scale to the [0-1] range"
   ]
  },
  {
   "cell_type": "code",
   "execution_count": 13,
   "metadata": {
    "id": "Jq7dx1DIikk2"
   },
   "outputs": [],
   "source": [
    "img_rows, img_cols = 28, 28\n",
    "X_train = X_train.reshape(X_train.shape[0], img_rows * img_cols) / 255\n",
    "X_test = X_test.reshape(X_test.shape[0], img_rows * img_cols) / 255"
   ]
  },
  {
   "cell_type": "markdown",
   "metadata": {
    "id": "Z5InDgpPfPaG"
   },
   "source": [
    "### 2.4. Train your multiclass SVM classifier\n",
    "Or use sklearn library: https://scikit-learn.org/stable/modules/generated/sklearn.svm.SVC.html\n",
    "\n",
    "Note that we are predicting a class among: 0, 1, 2, 3, 4, 5, 6, 7, 8 & 9.\n",
    "\n",
    "\n",
    "/!\\ Please, don't take the entire dataset (take 1000 to 10000 samples otherwise you'll never get the result !)"
   ]
  },
  {
   "cell_type": "code",
   "execution_count": 14,
   "metadata": {
    "colab": {
     "base_uri": "https://localhost:8080/"
    },
    "id": "_Wfw58--fOum",
    "outputId": "e8350a40-cd63-4ba3-d377-dd7c2e6fe929"
   },
   "outputs": [
    {
     "data": {
      "text/plain": [
       "SVC()"
      ]
     },
     "execution_count": 14,
     "metadata": {},
     "output_type": "execute_result"
    }
   ],
   "source": [
    "model = svm.SVC()\n",
    "model.fit(X_train[:1000],Y_train[:1000])"
   ]
  },
  {
   "cell_type": "markdown",
   "metadata": {
    "id": "O4OOhlinjTgZ"
   },
   "source": [
    "### 2.5. Make a prediction for a random image of the test dataset"
   ]
  },
  {
   "cell_type": "code",
   "execution_count": 15,
   "metadata": {
    "colab": {
     "base_uri": "https://localhost:8080/",
     "height": 300
    },
    "id": "bhxGxT5NM2jn",
    "outputId": "f766d35e-d9f2-4e62-9a15-de391a0b10a2"
   },
   "outputs": [
    {
     "data": {
      "image/png": "[encoded data removed]",
      "text/plain": [
       "<Figure size 432x288 with 1 Axes>"
      ]
     },
     "metadata": {
      "needs_background": "light"
     },
     "output_type": "display_data"
    },
    {
     "name": "stdout",
     "output_type": "stream",
     "text": [
      "Predicted label: 0\n",
      "Actual label: 0 \n"
     ]
    }
   ],
   "source": [
    "#Re-run several times to test several images\n",
    "\n",
    "#Choose a test image at random\n",
    "i = np.random.randint(0, X_test.shape[0]-1)\n",
    "\n",
    "#Display image\n",
    "plt.imshow(1.0-X_test[i,:].reshape(28, 28),cmap=\"gray\")\n",
    "plt.show()\n",
    "\n",
    "#Predict the value\n",
    "single_prediction = model.predict([X_test[i,:]])\n",
    "\n",
    "#Display label\n",
    "print(\"Predicted label: {}\\nActual label: {} \".format(single_prediction[0],\n",
    "                                                      Y_test[i]))"
   ]
  },
  {
   "cell_type": "markdown",
   "metadata": {
    "id": "QmBncemRjblk"
   },
   "source": [
    "### 2.6. Measure the accuracy"
   ]
  },
  {
   "cell_type": "code",
   "execution_count": 16,
   "metadata": {
    "colab": {
     "base_uri": "https://localhost:8080/",
     "height": 327
    },
    "id": "vt5StboxM9YJ",
    "outputId": "36b224c4-de15-4035-93ec-d5064a021b96"
   },
   "outputs": [
    {
     "name": "stdout",
     "output_type": "stream",
     "text": [
      "Accuracy= 0.875\n"
     ]
    },
    {
     "data": {
      "image/png": "[encoded data removed]",
      "text/plain": [
       "<Figure size 432x288 with 2 Axes>"
      ]
     },
     "metadata": {
      "needs_background": "light"
     },
     "output_type": "display_data"
    }
   ],
   "source": [
    "#Measure accuracy on a subset of the test set which was not used during training\n",
    "Y_predicted = model.predict(X_test[:1000])\n",
    "\n",
    "#Compute the accuracy\n",
    "print(\"Accuracy=\", accuracy_score(Y_test[:1000], Y_predicted))\n",
    "\n",
    "#Set the confusion matrix & display it\n",
    "cf_matrix = confusion_matrix(Y_test[:1000], Y_predicted)\n",
    "\n",
    "ax = sns.heatmap(cf_matrix, annot=True)\n",
    "\n",
    "ax.set_title('Confusion Matrix with labels\\n');\n",
    "ax.set_xlabel('Prediction')\n",
    "ax.set_ylabel('Actual');\n",
    "ax.xaxis.set_ticklabels([i for i in range(10)])\n",
    "ax.yaxis.set_ticklabels([i for i in range(10)])\n",
    "\n",
    "#Display the visualization of the Confusion Matrix.\n",
    "plt.show()"
   ]
  },
  {
   "cell_type": "code",
   "execution_count": 17,
   "metadata": {
    "colab": {
     "base_uri": "https://localhost:8080/",
     "height": 380
    },
    "id": "iTReE8nRGBrb",
    "outputId": "50f38d7e-29da-44ba-9e0d-af4e88b70d4d"
   },
   "outputs": [
    {
     "ename": "AttributeError",
     "evalue": "ignored",
     "output_type": "error",
     "traceback": [
      "\u001b[0;31m---------------------------------------------------------------------------\u001b[0m",
      "\u001b[0;31mAttributeError\u001b[0m                            Traceback (most recent call last)",
      "\u001b[0;32m<ipython-input-17-fe7040633ec8>\u001b[0m in \u001b[0;36m<module>\u001b[0;34m\u001b[0m\n\u001b[1;32m      1\u001b[0m \u001b[0;31m# Generate class membership probabilities\u001b[0m\u001b[0;34m\u001b[0m\u001b[0;34m\u001b[0m\u001b[0;34m\u001b[0m\u001b[0m\n\u001b[0;32m----> 2\u001b[0;31m \u001b[0my_preb_probs\u001b[0m \u001b[0;34m=\u001b[0m \u001b[0mmodel\u001b[0m\u001b[0;34m.\u001b[0m\u001b[0mpredict_proba\u001b[0m\u001b[0;34m(\u001b[0m\u001b[0mX_test\u001b[0m\u001b[0;34m)\u001b[0m\u001b[0;34m\u001b[0m\u001b[0;34m\u001b[0m\u001b[0m\n\u001b[0m\u001b[1;32m      3\u001b[0m \u001b[0;34m\u001b[0m\u001b[0m\n\u001b[1;32m      4\u001b[0m roc_auc = roc_auc_score(\n\u001b[1;32m      5\u001b[0m   \u001b[0mY_test\u001b[0m\u001b[0;34m,\u001b[0m \u001b[0my_preb_probs\u001b[0m\u001b[0;34m,\u001b[0m \u001b[0maverage\u001b[0m\u001b[0;34m=\u001b[0m\u001b[0;34m\"weighted\"\u001b[0m\u001b[0;34m,\u001b[0m \u001b[0mmulti_class\u001b[0m\u001b[0;34m=\u001b[0m\u001b[0;34m\"ovo\"\u001b[0m\u001b[0;34m\u001b[0m\u001b[0;34m\u001b[0m\u001b[0m\n",
      "\u001b[0;32m/usr/local/lib/python3.7/dist-packages/sklearn/utils/metaestimators.py\u001b[0m in \u001b[0;36m__get__\u001b[0;34m(self, obj, owner)\u001b[0m\n\u001b[1;32m    107\u001b[0m             \u001b[0;31m# delegate only on instances, not the classes.\u001b[0m\u001b[0;34m\u001b[0m\u001b[0;34m\u001b[0m\u001b[0;34m\u001b[0m\u001b[0m\n\u001b[1;32m    108\u001b[0m             \u001b[0;31m# this is to allow access to the docstrings.\u001b[0m\u001b[0;34m\u001b[0m\u001b[0;34m\u001b[0m\u001b[0;34m\u001b[0m\u001b[0m\n\u001b[0;32m--> 109\u001b[0;31m             \u001b[0;32mif\u001b[0m \u001b[0;32mnot\u001b[0m \u001b[0mself\u001b[0m\u001b[0;34m.\u001b[0m\u001b[0mcheck\u001b[0m\u001b[0;34m(\u001b[0m\u001b[0mobj\u001b[0m\u001b[0;34m)\u001b[0m\u001b[0;34m:\u001b[0m\u001b[0;34m\u001b[0m\u001b[0;34m\u001b[0m\u001b[0m\n\u001b[0m\u001b[1;32m    110\u001b[0m                 \u001b[0;32mraise\u001b[0m \u001b[0mattr_err\u001b[0m\u001b[0;34m\u001b[0m\u001b[0;34m\u001b[0m\u001b[0m\n\u001b[1;32m    111\u001b[0m \u001b[0;34m\u001b[0m\u001b[0m\n",
      "\u001b[0;32m/usr/local/lib/python3.7/dist-packages/sklearn/svm/_base.py\u001b[0m in \u001b[0;36m_check_proba\u001b[0;34m(self)\u001b[0m\n\u001b[1;32m    799\u001b[0m         \u001b[0;32mif\u001b[0m \u001b[0;32mnot\u001b[0m \u001b[0mself\u001b[0m\u001b[0;34m.\u001b[0m\u001b[0mprobability\u001b[0m\u001b[0;34m:\u001b[0m\u001b[0;34m\u001b[0m\u001b[0;34m\u001b[0m\u001b[0m\n\u001b[1;32m    800\u001b[0m             raise AttributeError(\n\u001b[0;32m--> 801\u001b[0;31m                 \u001b[0;34m\"predict_proba is not available when  probability=False\"\u001b[0m\u001b[0;34m\u001b[0m\u001b[0;34m\u001b[0m\u001b[0m\n\u001b[0m\u001b[1;32m    802\u001b[0m             )\n\u001b[1;32m    803\u001b[0m         \u001b[0;32mif\u001b[0m \u001b[0mself\u001b[0m\u001b[0;34m.\u001b[0m\u001b[0m_impl\u001b[0m \u001b[0;32mnot\u001b[0m \u001b[0;32min\u001b[0m \u001b[0;34m(\u001b[0m\u001b[0;34m\"c_svc\"\u001b[0m\u001b[0;34m,\u001b[0m \u001b[0;34m\"nu_svc\"\u001b[0m\u001b[0;34m)\u001b[0m\u001b[0;34m:\u001b[0m\u001b[0;34m\u001b[0m\u001b[0;34m\u001b[0m\u001b[0m\n",
      "\u001b[0;31mAttributeError\u001b[0m: predict_proba is not available when  probability=False"
     ]
    }
   ],
   "source": [
    "#Generate class membership probabilities\n",
    "y_preb_probs = model.predict_proba(X_test)\n",
    "\n",
    "roc_auc = roc_auc_score(\n",
    "  Y_test, y_preb_probs, average=\"weighted\", multi_class=\"ovo\"\n",
    ")\n",
    "print(\"ROC AUC score: {}\".format(roc_auc))"
   ]
  },
  {
   "cell_type": "code",
   "execution_count": null,
   "metadata": {
    "id": "CIem1i2GIST9"
   },
   "outputs": [],
   "source": [
    "#Observe the pictures badly classified to check if you could have done better:\n",
    "for i in range(100):\n",
    "  if Y_test[i] != Y_predicted[i]:\n",
    "    # Display image\n",
    "    plt.imshow(1.0-X_test[i,:].reshape(28, 28),cmap=\"gray\")\n",
    "    plt.show()\n",
    "\n",
    "    #Display label\n",
    "    print(\"Predicted label: {}\\nActual label: {} \".format(Y_predicted[i],\n",
    "                                                          Y_test[i]))"
   ]
  },
  {
   "cell_type": "markdown",
   "metadata": {
    "id": "xN1A6zuhU99c"
   },
   "source": [
    "# **Exercise 3. Simple regression problem - Support Vector Regressor (SVR)**\n",
    "\n",
    "#### Let's try SVMs on the prediction of fishes' weight based on their size characteristics\n",
    "- 3.1. Load the dataset and split into train & test (done): it can be found [here](https://www.kaggle.com/aungpyaeap/fish-market?select=Fish.csv)\n",
    "- 3.2. Do some exploration & transformation\n",
    "- 3.3. Split dataset into train & test\n",
    "- 3.4. Train your SVR (use sklearn.svm.SVR() function)\n",
    "- 3.5. Measure the accuracy of your model\n",
    "- 3.6. Improve your model"
   ]
  },
  {
   "cell_type": "code",
   "execution_count": null,
   "metadata": {
    "id": "pwofVe-VyCbD"
   },
   "outputs": [],
   "source": [
    "import os\n",
    "from google.colab import drive\n",
    "\n",
    "#Get the current location of your notebook\n",
    "print(os.getcwd())\n",
    "\n",
    "#Connect to your drive (it will ask you your Google account)\n",
    "drive.mount(os.getcwd()+'/drive')\n",
    "\n",
    "#Navigate and list content of your Drive folders\n",
    "print(os.listdir('drive/MyDrive/???'))"
   ]
  },
  {
   "cell_type": "code",
   "execution_count": 18,
   "metadata": {
    "colab": {
     "base_uri": "https://localhost:8080/",
     "height": 206
    },
    "id": "I4HSGg4jSXwh",
    "outputId": "0c99f43e-d2c3-435e-bd2f-e39759efb555"
   },
   "outputs": [
    {
     "data": {
      "text/html": [
       "\n",
       "  <div id=\"df-b3ae99df-a6e7-4228-87a6-288313e4b9da\">\n",
       "    <div class=\"colab-df-container\">\n",
       "      <div>\n",
       "<style scoped>\n",
       "    .dataframe tbody tr th:only-of-type {\n",
       "        vertical-align: middle;\n",
       "    }\n",
       "\n",
       "    .dataframe tbody tr th {\n",
       "        vertical-align: top;\n",
       "    }\n",
       "\n",
       "    .dataframe thead th {\n",
       "        text-align: right;\n",
       "    }\n",
       "</style>\n",
       "<table border=\"1\" class=\"dataframe\">\n",
       "  <thead>\n",
       "    <tr style=\"text-align: right;\">\n",
       "      <th></th>\n",
       "      <th>Species</th>\n",
       "      <th>Weight</th>\n",
       "      <th>Length1</th>\n",
       "      <th>Length2</th>\n",
       "      <th>Length3</th>\n",
       "      <th>Height</th>\n",
       "      <th>Width</th>\n",
       "    </tr>\n",
       "  </thead>\n",
       "  <tbody>\n",
       "    <tr>\n",
       "      <th>0</th>\n",
       "      <td>Bream</td>\n",
       "      <td>242.0</td>\n",
       "      <td>23.2</td>\n",
       "      <td>25.4</td>\n",
       "      <td>30.0</td>\n",
       "      <td>11.5200</td>\n",
       "      <td>4.0200</td>\n",
       "    </tr>\n",
       "    <tr>\n",
       "      <th>1</th>\n",
       "      <td>Bream</td>\n",
       "      <td>290.0</td>\n",
       "      <td>24.0</td>\n",
       "      <td>26.3</td>\n",
       "      <td>31.2</td>\n",
       "      <td>12.4800</td>\n",
       "      <td>4.3056</td>\n",
       "    </tr>\n",
       "    <tr>\n",
       "      <th>2</th>\n",
       "      <td>Bream</td>\n",
       "      <td>340.0</td>\n",
       "      <td>23.9</td>\n",
       "      <td>26.5</td>\n",
       "      <td>31.1</td>\n",
       "      <td>12.3778</td>\n",
       "      <td>4.6961</td>\n",
       "    </tr>\n",
       "    <tr>\n",
       "      <th>3</th>\n",
       "      <td>Bream</td>\n",
       "      <td>363.0</td>\n",
       "      <td>26.3</td>\n",
       "      <td>29.0</td>\n",
       "      <td>33.5</td>\n",
       "      <td>12.7300</td>\n",
       "      <td>4.4555</td>\n",
       "    </tr>\n",
       "    <tr>\n",
       "      <th>4</th>\n",
       "      <td>Bream</td>\n",
       "      <td>430.0</td>\n",
       "      <td>26.5</td>\n",
       "      <td>29.0</td>\n",
       "      <td>34.0</td>\n",
       "      <td>12.4440</td>\n",
       "      <td>5.1340</td>\n",
       "    </tr>\n",
       "  </tbody>\n",
       "</table>\n",
       "</div>\n",
       "      <button class=\"colab-df-convert\" onclick=\"convertToInteractive('df-b3ae99df-a6e7-4228-87a6-288313e4b9da')\"\n",
       "              title=\"Convert this dataframe to an interactive table.\"\n",
       "              style=\"display:none;\">\n",
       "        \n",
       "  <svg xmlns=\"http://www.w3.org/2000/svg\" height=\"24px\"viewBox=\"0 0 24 24\"\n",
       "       width=\"24px\">\n",
       "    <path d=\"M0 0h24v24H0V0z\" fill=\"none\"/>\n",
       "    <path d=\"M18.56 5.44l.94 2.06.94-2.06 2.06-.94-2.06-.94-.94-2.06-.94 2.06-2.06.94zm-11 1L8.5 8.5l.94-2.06 2.06-.94-2.06-.94L8.5 2.5l-.94 2.06-2.06.94zm10 10l.94 2.06.94-2.06 2.06-.94-2.06-.94-.94-2.06-.94 2.06-2.06.94z\"/><path d=\"M17.41 7.96l-1.37-1.37c-.4-.4-.92-.59-1.43-.59-.52 0-1.04.2-1.43.59L10.3 9.45l-7.72 7.72c-.78.78-.78 2.05 0 2.83L4 21.41c.39.39.9.59 1.41.59.51 0 1.02-.2 1.41-.59l7.78-7.78 2.81-2.81c.8-.78.8-2.07 0-2.86zM5.41 20L4 18.59l7.72-7.72 1.47 1.35L5.41 20z\"/>\n",
       "  </svg>\n",
       "      </button>\n",
       "      \n",
       "  <style>\n",
       "    .colab-df-container {\n",
       "      display:flex;\n",
       "      flex-wrap:wrap;\n",
       "      gap: 12px;\n",
       "    }\n",
       "\n",
       "    .colab-df-convert {\n",
       "      background-color: #E8F0FE;\n",
       "      border: none;\n",
       "      border-radius: 50%;\n",
       "      cursor: pointer;\n",
       "      display: none;\n",
       "      fill: #1967D2;\n",
       "      height: 32px;\n",
       "      padding: 0 0 0 0;\n",
       "      width: 32px;\n",
       "    }\n",
       "\n",
       "    .colab-df-convert:hover {\n",
       "      background-color: #E2EBFA;\n",
       "      box-shadow: 0px 1px 2px rgba(60, 64, 67, 0.3), 0px 1px 3px 1px rgba(60, 64, 67, 0.15);\n",
       "      fill: #174EA6;\n",
       "    }\n",
       "\n",
       "    [theme=dark] .colab-df-convert {\n",
       "      background-color: #3B4455;\n",
       "      fill: #D2E3FC;\n",
       "    }\n",
       "\n",
       "    [theme=dark] .colab-df-convert:hover {\n",
       "      background-color: #434B5C;\n",
       "      box-shadow: 0px 1px 3px 1px rgba(0, 0, 0, 0.15);\n",
       "      filter: drop-shadow(0px 1px 2px rgba(0, 0, 0, 0.3));\n",
       "      fill: #FFFFFF;\n",
       "    }\n",
       "  </style>\n",
       "\n",
       "      <script>\n",
       "        const buttonEl =\n",
       "          document.querySelector('#df-b3ae99df-a6e7-4228-87a6-288313e4b9da button.colab-df-convert');\n",
       "        buttonEl.style.display =\n",
       "          google.colab.kernel.accessAllowed ? 'block' : 'none';\n",
       "\n",
       "        async function convertToInteractive(key) {\n",
       "          const element = document.querySelector('#df-b3ae99df-a6e7-4228-87a6-288313e4b9da');\n",
       "          const dataTable =\n",
       "            await google.colab.kernel.invokeFunction('convertToInteractive',\n",
       "                                                     [key], {});\n",
       "          if (!dataTable) return;\n",
       "\n",
       "          const docLinkHtml = 'Like what you see? Visit the ' +\n",
       "            '<a target=\"_blank\" href=https://colab.research.google.com/notebooks/data_table.ipynb>data table notebook</a>'\n",
       "            + ' to learn more about interactive tables.';\n",
       "          element.innerHTML = '';\n",
       "          dataTable['output_type'] = 'display_data';\n",
       "          await google.colab.output.renderOutput(dataTable, element);\n",
       "          const docLink = document.createElement('div');\n",
       "          docLink.innerHTML = docLinkHtml;\n",
       "          element.appendChild(docLink);\n",
       "        }\n",
       "      </script>\n",
       "    </div>\n",
       "  </div>\n",
       "  "
      ],
      "text/plain": [
       "  Species  Weight  Length1  Length2  Length3   Height   Width\n",
       "0   Bream   242.0     23.2     25.4     30.0  11.5200  4.0200\n",
       "1   Bream   290.0     24.0     26.3     31.2  12.4800  4.3056\n",
       "2   Bream   340.0     23.9     26.5     31.1  12.3778  4.6961\n",
       "3   Bream   363.0     26.3     29.0     33.5  12.7300  4.4555\n",
       "4   Bream   430.0     26.5     29.0     34.0  12.4440  5.1340"
      ]
     },
     "execution_count": 18,
     "metadata": {},
     "output_type": "execute_result"
    }
   ],
   "source": [
    "#3.1 Load the dataset\n",
    "dataset = pd.read_csv(\"Fish.csv\")\n",
    "dataset.head()"
   ]
  },
  {
   "cell_type": "code",
   "execution_count": 19,
   "metadata": {
    "colab": {
     "base_uri": "https://localhost:8080/",
     "height": 265
    },
    "id": "VFJuMKsMob6M",
    "outputId": "a4e5eaf6-79ed-401c-9b8c-ed4c1d9528b8"
   },
   "outputs": [
    {
     "data": {
      "image/png": "[encoded data removed]",
      "text/plain": [
       "<Figure size 432x288 with 1 Axes>"
      ]
     },
     "metadata": {
      "needs_background": "light"
     },
     "output_type": "display_data"
    }
   ],
   "source": [
    "#3.2.1 View distribution of the fish species\n",
    "species = dataset.Species.unique()\n",
    "count = [len(dataset.loc[dataset.Species==species]) \n",
    "         for species in dataset.Species.unique()]\n",
    "plt.bar(species, count)\n",
    "plt.show()"
   ]
  },
  {
   "cell_type": "code",
   "execution_count": 20,
   "metadata": {
    "colab": {
     "base_uri": "https://localhost:8080/",
     "height": 282
    },
    "id": "uNkzMLzzTvzy",
    "outputId": "085b7faf-160e-40ba-e312-da5e133aebe9"
   },
   "outputs": [
    {
     "data": {
      "text/plain": [
       "<matplotlib.collections.PathCollection at 0x7ff8166521d0>"
      ]
     },
     "execution_count": 20,
     "metadata": {},
     "output_type": "execute_result"
    },
    {
     "data": {
      "image/png": "[encoded data removed]",
      "text/plain": [
       "<Figure size 432x288 with 1 Axes>"
      ]
     },
     "metadata": {
      "needs_background": "light"
     },
     "output_type": "display_data"
    }
   ],
   "source": [
    "#3.2.2 Plot relationships between variables\n",
    "df = dataset.loc[dataset.Species==\"Perch\"]\n",
    "plt.scatter(dataset[\"Height\"], dataset[\"Weight\"])"
   ]
  },
  {
   "cell_type": "code",
   "execution_count": 21,
   "metadata": {
    "colab": {
     "base_uri": "https://localhost:8080/"
    },
    "id": "AXllYqT0uIjo",
    "outputId": "5c61b4c9-2b2b-474c-aa5f-6dfbd3210f97"
   },
   "outputs": [
    {
     "name": "stdout",
     "output_type": "stream",
     "text": [
      "         Weight  Length1  Length2  Length3  Height  Width\n",
      "Weight     1.00     0.96     0.96     0.96    0.97   0.96\n",
      "Length1    0.96     1.00     1.00     1.00    0.99   0.97\n",
      "Length2    0.96     1.00     1.00     1.00    0.99   0.97\n",
      "Length3    0.96     1.00     1.00     1.00    0.99   0.98\n",
      "Height     0.97     0.99     0.99     0.99    1.00   0.98\n",
      "Width      0.96     0.97     0.97     0.98    0.98   1.00\n"
     ]
    }
   ],
   "source": [
    "#3.2.3 Print the correlation matrix\n",
    "Corr_Matrix = round(df.corr(),2)\n",
    "print(Corr_Matrix)"
   ]
  },
  {
   "cell_type": "code",
   "execution_count": 22,
   "metadata": {
    "colab": {
     "base_uri": "https://localhost:8080/",
     "height": 270
    },
    "id": "yWBEy3aPtJoN",
    "outputId": "15f0e49b-21de-46a5-e20d-0a0b9370d80f"
   },
   "outputs": [
    {
     "data": {
      "text/html": [
       "\n",
       "  <div id=\"df-ec9b1ae1-a5fb-46d0-9aee-96afdda0165f\">\n",
       "    <div class=\"colab-df-container\">\n",
       "      <div>\n",
       "<style scoped>\n",
       "    .dataframe tbody tr th:only-of-type {\n",
       "        vertical-align: middle;\n",
       "    }\n",
       "\n",
       "    .dataframe tbody tr th {\n",
       "        vertical-align: top;\n",
       "    }\n",
       "\n",
       "    .dataframe thead th {\n",
       "        text-align: right;\n",
       "    }\n",
       "</style>\n",
       "<table border=\"1\" class=\"dataframe\">\n",
       "  <thead>\n",
       "    <tr style=\"text-align: right;\">\n",
       "      <th></th>\n",
       "      <th>Weight</th>\n",
       "      <th>Length1</th>\n",
       "      <th>Length2</th>\n",
       "      <th>Length3</th>\n",
       "      <th>Height</th>\n",
       "      <th>Width</th>\n",
       "      <th>Species_Parkki</th>\n",
       "      <th>Species_Perch</th>\n",
       "      <th>Species_Pike</th>\n",
       "      <th>Species_Roach</th>\n",
       "      <th>Species_Smelt</th>\n",
       "      <th>Species_Whitefish</th>\n",
       "    </tr>\n",
       "  </thead>\n",
       "  <tbody>\n",
       "    <tr>\n",
       "      <th>0</th>\n",
       "      <td>242.0</td>\n",
       "      <td>23.2</td>\n",
       "      <td>25.4</td>\n",
       "      <td>30.0</td>\n",
       "      <td>11.5200</td>\n",
       "      <td>4.0200</td>\n",
       "      <td>0</td>\n",
       "      <td>0</td>\n",
       "      <td>0</td>\n",
       "      <td>0</td>\n",
       "      <td>0</td>\n",
       "      <td>0</td>\n",
       "    </tr>\n",
       "    <tr>\n",
       "      <th>1</th>\n",
       "      <td>290.0</td>\n",
       "      <td>24.0</td>\n",
       "      <td>26.3</td>\n",
       "      <td>31.2</td>\n",
       "      <td>12.4800</td>\n",
       "      <td>4.3056</td>\n",
       "      <td>0</td>\n",
       "      <td>0</td>\n",
       "      <td>0</td>\n",
       "      <td>0</td>\n",
       "      <td>0</td>\n",
       "      <td>0</td>\n",
       "    </tr>\n",
       "    <tr>\n",
       "      <th>2</th>\n",
       "      <td>340.0</td>\n",
       "      <td>23.9</td>\n",
       "      <td>26.5</td>\n",
       "      <td>31.1</td>\n",
       "      <td>12.3778</td>\n",
       "      <td>4.6961</td>\n",
       "      <td>0</td>\n",
       "      <td>0</td>\n",
       "      <td>0</td>\n",
       "      <td>0</td>\n",
       "      <td>0</td>\n",
       "      <td>0</td>\n",
       "    </tr>\n",
       "    <tr>\n",
       "      <th>3</th>\n",
       "      <td>363.0</td>\n",
       "      <td>26.3</td>\n",
       "      <td>29.0</td>\n",
       "      <td>33.5</td>\n",
       "      <td>12.7300</td>\n",
       "      <td>4.4555</td>\n",
       "      <td>0</td>\n",
       "      <td>0</td>\n",
       "      <td>0</td>\n",
       "      <td>0</td>\n",
       "      <td>0</td>\n",
       "      <td>0</td>\n",
       "    </tr>\n",
       "    <tr>\n",
       "      <th>4</th>\n",
       "      <td>430.0</td>\n",
       "      <td>26.5</td>\n",
       "      <td>29.0</td>\n",
       "      <td>34.0</td>\n",
       "      <td>12.4440</td>\n",
       "      <td>5.1340</td>\n",
       "      <td>0</td>\n",
       "      <td>0</td>\n",
       "      <td>0</td>\n",
       "      <td>0</td>\n",
       "      <td>0</td>\n",
       "      <td>0</td>\n",
       "    </tr>\n",
       "  </tbody>\n",
       "</table>\n",
       "</div>\n",
       "      <button class=\"colab-df-convert\" onclick=\"convertToInteractive('df-ec9b1ae1-a5fb-46d0-9aee-96afdda0165f')\"\n",
       "              title=\"Convert this dataframe to an interactive table.\"\n",
       "              style=\"display:none;\">\n",
       "        \n",
       "  <svg xmlns=\"http://www.w3.org/2000/svg\" height=\"24px\"viewBox=\"0 0 24 24\"\n",
       "       width=\"24px\">\n",
       "    <path d=\"M0 0h24v24H0V0z\" fill=\"none\"/>\n",
       "    <path d=\"M18.56 5.44l.94 2.06.94-2.06 2.06-.94-2.06-.94-.94-2.06-.94 2.06-2.06.94zm-11 1L8.5 8.5l.94-2.06 2.06-.94-2.06-.94L8.5 2.5l-.94 2.06-2.06.94zm10 10l.94 2.06.94-2.06 2.06-.94-2.06-.94-.94-2.06-.94 2.06-2.06.94z\"/><path d=\"M17.41 7.96l-1.37-1.37c-.4-.4-.92-.59-1.43-.59-.52 0-1.04.2-1.43.59L10.3 9.45l-7.72 7.72c-.78.78-.78 2.05 0 2.83L4 21.41c.39.39.9.59 1.41.59.51 0 1.02-.2 1.41-.59l7.78-7.78 2.81-2.81c.8-.78.8-2.07 0-2.86zM5.41 20L4 18.59l7.72-7.72 1.47 1.35L5.41 20z\"/>\n",
       "  </svg>\n",
       "      </button>\n",
       "      \n",
       "  <style>\n",
       "    .colab-df-container {\n",
       "      display:flex;\n",
       "      flex-wrap:wrap;\n",
       "      gap: 12px;\n",
       "    }\n",
       "\n",
       "    .colab-df-convert {\n",
       "      background-color: #E8F0FE;\n",
       "      border: none;\n",
       "      border-radius: 50%;\n",
       "      cursor: pointer;\n",
       "      display: none;\n",
       "      fill: #1967D2;\n",
       "      height: 32px;\n",
       "      padding: 0 0 0 0;\n",
       "      width: 32px;\n",
       "    }\n",
       "\n",
       "    .colab-df-convert:hover {\n",
       "      background-color: #E2EBFA;\n",
       "      box-shadow: 0px 1px 2px rgba(60, 64, 67, 0.3), 0px 1px 3px 1px rgba(60, 64, 67, 0.15);\n",
       "      fill: #174EA6;\n",
       "    }\n",
       "\n",
       "    [theme=dark] .colab-df-convert {\n",
       "      background-color: #3B4455;\n",
       "      fill: #D2E3FC;\n",
       "    }\n",
       "\n",
       "    [theme=dark] .colab-df-convert:hover {\n",
       "      background-color: #434B5C;\n",
       "      box-shadow: 0px 1px 3px 1px rgba(0, 0, 0, 0.15);\n",
       "      filter: drop-shadow(0px 1px 2px rgba(0, 0, 0, 0.3));\n",
       "      fill: #FFFFFF;\n",
       "    }\n",
       "  </style>\n",
       "\n",
       "      <script>\n",
       "        const buttonEl =\n",
       "          document.querySelector('#df-ec9b1ae1-a5fb-46d0-9aee-96afdda0165f button.colab-df-convert');\n",
       "        buttonEl.style.display =\n",
       "          google.colab.kernel.accessAllowed ? 'block' : 'none';\n",
       "\n",
       "        async function convertToInteractive(key) {\n",
       "          const element = document.querySelector('#df-ec9b1ae1-a5fb-46d0-9aee-96afdda0165f');\n",
       "          const dataTable =\n",
       "            await google.colab.kernel.invokeFunction('convertToInteractive',\n",
       "                                                     [key], {});\n",
       "          if (!dataTable) return;\n",
       "\n",
       "          const docLinkHtml = 'Like what you see? Visit the ' +\n",
       "            '<a target=\"_blank\" href=https://colab.research.google.com/notebooks/data_table.ipynb>data table notebook</a>'\n",
       "            + ' to learn more about interactive tables.';\n",
       "          element.innerHTML = '';\n",
       "          dataTable['output_type'] = 'display_data';\n",
       "          await google.colab.output.renderOutput(dataTable, element);\n",
       "          const docLink = document.createElement('div');\n",
       "          docLink.innerHTML = docLinkHtml;\n",
       "          element.appendChild(docLink);\n",
       "        }\n",
       "      </script>\n",
       "    </div>\n",
       "  </div>\n",
       "  "
      ],
      "text/plain": [
       "   Weight  Length1  Length2  Length3   Height   Width  Species_Parkki  \\\n",
       "0   242.0     23.2     25.4     30.0  11.5200  4.0200               0   \n",
       "1   290.0     24.0     26.3     31.2  12.4800  4.3056               0   \n",
       "2   340.0     23.9     26.5     31.1  12.3778  4.6961               0   \n",
       "3   363.0     26.3     29.0     33.5  12.7300  4.4555               0   \n",
       "4   430.0     26.5     29.0     34.0  12.4440  5.1340               0   \n",
       "\n",
       "   Species_Perch  Species_Pike  Species_Roach  Species_Smelt  \\\n",
       "0              0             0              0              0   \n",
       "1              0             0              0              0   \n",
       "2              0             0              0              0   \n",
       "3              0             0              0              0   \n",
       "4              0             0              0              0   \n",
       "\n",
       "   Species_Whitefish  \n",
       "0                  0  \n",
       "1                  0  \n",
       "2                  0  \n",
       "3                  0  \n",
       "4                  0  "
      ]
     },
     "execution_count": 22,
     "metadata": {},
     "output_type": "execute_result"
    }
   ],
   "source": [
    "#3.2.4 One hot encode the only categorical column of the dataset (use pd.get_dummies)\n",
    "dataset = pd.get_dummies(dataset, columns=['Species'], drop_first=True)\n",
    "dataset.head()"
   ]
  },
  {
   "cell_type": "code",
   "execution_count": 23,
   "metadata": {
    "id": "j1ZVmnLzlyHX"
   },
   "outputs": [],
   "source": [
    "#3.3 Split train / test\n",
    "X_train, X_test = train_test_split(dataset, train_size=0.8, random_state=21)\n",
    "Y_train = X_train.Weight\n",
    "Y_test = X_test.Weight\n",
    "del X_train[\"Weight\"]\n",
    "del X_test[\"Weight\"]"
   ]
  },
  {
   "cell_type": "code",
   "execution_count": null,
   "metadata": {
    "id": "NFmLYLgodvGM"
   },
   "outputs": [],
   "source": [
    "#3.4 Train your model\n",
    "model = ???\n",
    "model = model.fit(???)"
   ]
  },
  {
   "cell_type": "code",
   "execution_count": null,
   "metadata": {
    "id": "aQekPRrUjGWp"
   },
   "outputs": [],
   "source": [
    "#3.5 Evaluate your model (here RMSE)\n",
    "Y_pred = model.predict(???)\n",
    "mean_squared_error(Y_test, Y_pred, squared=False)"
   ]
  },
  {
   "cell_type": "markdown",
   "metadata": {
    "id": "F2OKTCPYJh0g"
   },
   "source": [
    "### 3.6 Improve your model by tuning SVR hyperparameters\n",
    "We will use the function: sklearn.model_selection.GridSearchCV(estimator, param_grid) where:\n",
    "- estimator: estimator object, svm.SVC() in our case\n",
    "- param_grid: dict with parameters names (string) as keys and lists of parameter settings to try as values"
   ]
  },
  {
   "cell_type": "code",
   "execution_count": null,
   "metadata": {
    "id": "Y3W4SQBjC4uz"
   },
   "outputs": [],
   "source": [
    "param_grid = {\n",
    "    \"kernel\": [???],\n",
    "    \"C\": [???],\n",
    "    \"gamma\": [???],\n",
    "    \"epsilon\": [???]\n",
    "}\n",
    "grid = GridSearchCV(???, ???, scoring=\"neg_root_mean_squared_error\", cv=???)\n",
    "grid.fit(X_train, Y_train)\n",
    "\n",
    "print(\"We obtained a training RMSE score of:\", abs(grid.best_score_), \"with parameters:\", grid.best_params_)"
   ]
  },
  {
   "cell_type": "code",
   "execution_count": null,
   "metadata": {
    "id": "R6hWcj98B4Og"
   },
   "outputs": [],
   "source": []
  }
 ],
 "metadata": {
  "colab": {
   "provenance": []
  },
  "kernelspec": {
   "display_name": "Python 3 (ipykernel)",
   "language": "python",
   "name": "python3"
  },
  "language_info": {
   "codemirror_mode": {
    "name": "ipython",
    "version": 3
   },
   "file_extension": ".py",
   "mimetype": "text/x-python",
   "name": "python",
   "nbconvert_exporter": "python",
   "pygments_lexer": "ipython3",
   "version": "3.9.12"
  }
 },
 "nbformat": 4,
 "nbformat_minor": 1
}
